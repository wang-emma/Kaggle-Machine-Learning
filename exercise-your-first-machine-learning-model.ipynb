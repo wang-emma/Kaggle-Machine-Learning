{
 "cells": [
  {
   "cell_type": "markdown",
   "id": "63e59cb4",
   "metadata": {
    "papermill": {
     "duration": 0.005329,
     "end_time": "2023-08-22T02:41:46.996601",
     "exception": false,
     "start_time": "2023-08-22T02:41:46.991272",
     "status": "completed"
    },
    "tags": []
   },
   "source": [
    "**This notebook is an exercise in the [Introduction to Machine Learning](https://www.kaggle.com/learn/intro-to-machine-learning) course.  You can reference the tutorial at [this link](https://www.kaggle.com/dansbecker/your-first-machine-learning-model).**\n",
    "\n",
    "---\n"
   ]
  },
  {
   "cell_type": "markdown",
   "id": "8547e280",
   "metadata": {
    "papermill": {
     "duration": 0.004888,
     "end_time": "2023-08-22T02:41:47.007124",
     "exception": false,
     "start_time": "2023-08-22T02:41:47.002236",
     "status": "completed"
    },
    "tags": []
   },
   "source": [
    "## Recap\n",
    "So far, you have loaded your data and reviewed it with the following code. Run this cell to set up your coding environment where the previous step left off."
   ]
  },
  {
   "cell_type": "code",
   "execution_count": 1,
   "id": "774ba513",
   "metadata": {
    "execution": {
     "iopub.execute_input": "2023-08-22T02:41:47.019879Z",
     "iopub.status.busy": "2023-08-22T02:41:47.019401Z",
     "iopub.status.idle": "2023-08-22T02:41:48.732694Z",
     "shell.execute_reply": "2023-08-22T02:41:48.731134Z"
    },
    "papermill": {
     "duration": 1.723005,
     "end_time": "2023-08-22T02:41:48.735244",
     "exception": false,
     "start_time": "2023-08-22T02:41:47.012239",
     "status": "completed"
    },
    "tags": []
   },
   "outputs": [
    {
     "name": "stderr",
     "output_type": "stream",
     "text": [
      "/opt/conda/lib/python3.10/site-packages/scipy/__init__.py:146: UserWarning: A NumPy version >=1.16.5 and <1.23.0 is required for this version of SciPy (detected version 1.23.5\n",
      "  warnings.warn(f\"A NumPy version >={np_minversion} and <{np_maxversion}\"\n"
     ]
    },
    {
     "name": "stdout",
     "output_type": "stream",
     "text": [
      "Setup Complete\n"
     ]
    }
   ],
   "source": [
    "# Code you have previously used to load data\n",
    "import pandas as pd\n",
    "\n",
    "# Path of the file to read\n",
    "iowa_file_path = '../input/home-data-for-ml-course/train.csv'\n",
    "\n",
    "home_data = pd.read_csv(iowa_file_path)\n",
    "\n",
    "# Set up code checking\n",
    "from learntools.core import binder\n",
    "binder.bind(globals())\n",
    "from learntools.machine_learning.ex3 import *\n",
    "\n",
    "print(\"Setup Complete\")"
   ]
  },
  {
   "cell_type": "markdown",
   "id": "12edf10e",
   "metadata": {
    "papermill": {
     "duration": 0.006034,
     "end_time": "2023-08-22T02:41:48.747852",
     "exception": false,
     "start_time": "2023-08-22T02:41:48.741818",
     "status": "completed"
    },
    "tags": []
   },
   "source": [
    "# Exercises\n",
    "\n",
    "## Step 1: Specify Prediction Target\n",
    "Select the target variable, which corresponds to the sales price. Save this to a new variable called `y`. You'll need to print a list of the columns to find the name of the column you need.\n"
   ]
  },
  {
   "cell_type": "code",
   "execution_count": 2,
   "id": "35169982",
   "metadata": {
    "execution": {
     "iopub.execute_input": "2023-08-22T02:41:48.760848Z",
     "iopub.status.busy": "2023-08-22T02:41:48.760435Z",
     "iopub.status.idle": "2023-08-22T02:41:48.769452Z",
     "shell.execute_reply": "2023-08-22T02:41:48.768096Z"
    },
    "papermill": {
     "duration": 0.018401,
     "end_time": "2023-08-22T02:41:48.772124",
     "exception": false,
     "start_time": "2023-08-22T02:41:48.753723",
     "status": "completed"
    },
    "tags": []
   },
   "outputs": [
    {
     "data": {
      "text/plain": [
       "Index(['Id', 'MSSubClass', 'MSZoning', 'LotFrontage', 'LotArea', 'Street',\n",
       "       'Alley', 'LotShape', 'LandContour', 'Utilities', 'LotConfig',\n",
       "       'LandSlope', 'Neighborhood', 'Condition1', 'Condition2', 'BldgType',\n",
       "       'HouseStyle', 'OverallQual', 'OverallCond', 'YearBuilt', 'YearRemodAdd',\n",
       "       'RoofStyle', 'RoofMatl', 'Exterior1st', 'Exterior2nd', 'MasVnrType',\n",
       "       'MasVnrArea', 'ExterQual', 'ExterCond', 'Foundation', 'BsmtQual',\n",
       "       'BsmtCond', 'BsmtExposure', 'BsmtFinType1', 'BsmtFinSF1',\n",
       "       'BsmtFinType2', 'BsmtFinSF2', 'BsmtUnfSF', 'TotalBsmtSF', 'Heating',\n",
       "       'HeatingQC', 'CentralAir', 'Electrical', '1stFlrSF', '2ndFlrSF',\n",
       "       'LowQualFinSF', 'GrLivArea', 'BsmtFullBath', 'BsmtHalfBath', 'FullBath',\n",
       "       'HalfBath', 'BedroomAbvGr', 'KitchenAbvGr', 'KitchenQual',\n",
       "       'TotRmsAbvGrd', 'Functional', 'Fireplaces', 'FireplaceQu', 'GarageType',\n",
       "       'GarageYrBlt', 'GarageFinish', 'GarageCars', 'GarageArea', 'GarageQual',\n",
       "       'GarageCond', 'PavedDrive', 'WoodDeckSF', 'OpenPorchSF',\n",
       "       'EnclosedPorch', '3SsnPorch', 'ScreenPorch', 'PoolArea', 'PoolQC',\n",
       "       'Fence', 'MiscFeature', 'MiscVal', 'MoSold', 'YrSold', 'SaleType',\n",
       "       'SaleCondition', 'SalePrice'],\n",
       "      dtype='object')"
      ]
     },
     "execution_count": 2,
     "metadata": {},
     "output_type": "execute_result"
    }
   ],
   "source": [
    "# print the list of columns in the dataset to find the name of the prediction target\n",
    "home_data.columns"
   ]
  },
  {
   "cell_type": "code",
   "execution_count": 3,
   "id": "74e8e904",
   "metadata": {
    "execution": {
     "iopub.execute_input": "2023-08-22T02:41:48.788226Z",
     "iopub.status.busy": "2023-08-22T02:41:48.787757Z",
     "iopub.status.idle": "2023-08-22T02:41:48.803627Z",
     "shell.execute_reply": "2023-08-22T02:41:48.802467Z"
    },
    "papermill": {
     "duration": 0.027101,
     "end_time": "2023-08-22T02:41:48.806341",
     "exception": false,
     "start_time": "2023-08-22T02:41:48.779240",
     "status": "completed"
    },
    "tags": []
   },
   "outputs": [
    {
     "data": {
      "application/javascript": [
       "parent.postMessage({\"jupyterEvent\": \"custom.exercise_interaction\", \"data\": {\"outcomeType\": 1, \"valueTowardsCompletion\": 0.25, \"interactionType\": 1, \"questionType\": 2, \"questionId\": \"1_SetTarget\", \"learnToolsVersion\": \"0.3.4\", \"failureMessage\": \"\", \"exceptionClass\": \"\", \"trace\": \"\"}}, \"*\")"
      ],
      "text/plain": [
       "<IPython.core.display.Javascript object>"
      ]
     },
     "metadata": {},
     "output_type": "display_data"
    },
    {
     "data": {
      "text/markdown": [
       "<span style=\"color:#33cc33\">Correct</span>"
      ],
      "text/plain": [
       "Correct"
      ]
     },
     "metadata": {},
     "output_type": "display_data"
    }
   ],
   "source": [
    "y = home_data.SalePrice\n",
    "\n",
    "# Check your answer\n",
    "step_1.check()"
   ]
  },
  {
   "cell_type": "code",
   "execution_count": 4,
   "id": "91af50a4",
   "metadata": {
    "collapsed": true,
    "execution": {
     "iopub.execute_input": "2023-08-22T02:41:48.821266Z",
     "iopub.status.busy": "2023-08-22T02:41:48.820522Z",
     "iopub.status.idle": "2023-08-22T02:41:48.827443Z",
     "shell.execute_reply": "2023-08-22T02:41:48.825946Z"
    },
    "jupyter": {
     "outputs_hidden": true
    },
    "papermill": {
     "duration": 0.018439,
     "end_time": "2023-08-22T02:41:48.830424",
     "exception": false,
     "start_time": "2023-08-22T02:41:48.811985",
     "status": "completed"
    },
    "tags": []
   },
   "outputs": [],
   "source": [
    "# The lines below will show you a hint or the solution.\n",
    "# step_1.hint() \n",
    "# step_1.solution()"
   ]
  },
  {
   "cell_type": "markdown",
   "id": "02795871",
   "metadata": {
    "papermill": {
     "duration": 0.005601,
     "end_time": "2023-08-22T02:41:48.841918",
     "exception": false,
     "start_time": "2023-08-22T02:41:48.836317",
     "status": "completed"
    },
    "tags": []
   },
   "source": [
    "## Step 2: Create X\n",
    "Now you will create a DataFrame called `X` holding the predictive features.\n",
    "\n",
    "Since you want only some columns from the original data, you'll first create a list with the names of the columns you want in `X`.\n",
    "\n",
    "You'll use just the following columns in the list (you can copy and paste the whole list to save some typing, though you'll still need to add quotes):\n",
    "  * LotArea\n",
    "  * YearBuilt\n",
    "  * 1stFlrSF\n",
    "  * 2ndFlrSF\n",
    "  * FullBath\n",
    "  * BedroomAbvGr\n",
    "  * TotRmsAbvGrd\n",
    "\n",
    "After you've created that list of features, use it to create the DataFrame that you'll use to fit the model."
   ]
  },
  {
   "cell_type": "code",
   "execution_count": 5,
   "id": "2150e607",
   "metadata": {
    "execution": {
     "iopub.execute_input": "2023-08-22T02:41:48.855279Z",
     "iopub.status.busy": "2023-08-22T02:41:48.854756Z",
     "iopub.status.idle": "2023-08-22T02:41:48.870421Z",
     "shell.execute_reply": "2023-08-22T02:41:48.869217Z"
    },
    "papermill": {
     "duration": 0.024999,
     "end_time": "2023-08-22T02:41:48.872846",
     "exception": false,
     "start_time": "2023-08-22T02:41:48.847847",
     "status": "completed"
    },
    "tags": []
   },
   "outputs": [
    {
     "data": {
      "application/javascript": [
       "parent.postMessage({\"jupyterEvent\": \"custom.exercise_interaction\", \"data\": {\"outcomeType\": 1, \"valueTowardsCompletion\": 0.25, \"interactionType\": 1, \"questionType\": 2, \"questionId\": \"2_SelectPredictionData\", \"learnToolsVersion\": \"0.3.4\", \"failureMessage\": \"\", \"exceptionClass\": \"\", \"trace\": \"\"}}, \"*\")"
      ],
      "text/plain": [
       "<IPython.core.display.Javascript object>"
      ]
     },
     "metadata": {},
     "output_type": "display_data"
    },
    {
     "data": {
      "text/markdown": [
       "<span style=\"color:#33cc33\">Correct</span>"
      ],
      "text/plain": [
       "Correct"
      ]
     },
     "metadata": {},
     "output_type": "display_data"
    }
   ],
   "source": [
    "# Create the list of features below\n",
    "feature_names = ['LotArea', 'YearBuilt', '1stFlrSF', '2ndFlrSF', 'FullBath', 'BedroomAbvGr', 'TotRmsAbvGrd']\n",
    "\n",
    "# Select data corresponding to features in feature_names\n",
    "X = home_data[feature_names]\n",
    "\n",
    "# Check your answer\n",
    "step_2.check()"
   ]
  },
  {
   "cell_type": "code",
   "execution_count": 6,
   "id": "5908115e",
   "metadata": {
    "collapsed": true,
    "execution": {
     "iopub.execute_input": "2023-08-22T02:41:48.887210Z",
     "iopub.status.busy": "2023-08-22T02:41:48.886749Z",
     "iopub.status.idle": "2023-08-22T02:41:48.891900Z",
     "shell.execute_reply": "2023-08-22T02:41:48.890807Z"
    },
    "jupyter": {
     "outputs_hidden": true
    },
    "papermill": {
     "duration": 0.014902,
     "end_time": "2023-08-22T02:41:48.894165",
     "exception": false,
     "start_time": "2023-08-22T02:41:48.879263",
     "status": "completed"
    },
    "tags": []
   },
   "outputs": [],
   "source": [
    "# step_2.hint()\n",
    "# step_2.solution()"
   ]
  },
  {
   "cell_type": "markdown",
   "id": "79cc4165",
   "metadata": {
    "papermill": {
     "duration": 0.006862,
     "end_time": "2023-08-22T02:41:48.907150",
     "exception": false,
     "start_time": "2023-08-22T02:41:48.900288",
     "status": "completed"
    },
    "tags": []
   },
   "source": [
    "## Review Data\n",
    "Before building a model, take a quick look at **X** to verify it looks sensible"
   ]
  },
  {
   "cell_type": "code",
   "execution_count": 7,
   "id": "94b17147",
   "metadata": {
    "execution": {
     "iopub.execute_input": "2023-08-22T02:41:48.921250Z",
     "iopub.status.busy": "2023-08-22T02:41:48.920677Z",
     "iopub.status.idle": "2023-08-22T02:41:48.938516Z",
     "shell.execute_reply": "2023-08-22T02:41:48.936880Z"
    },
    "papermill": {
     "duration": 0.028152,
     "end_time": "2023-08-22T02:41:48.941357",
     "exception": false,
     "start_time": "2023-08-22T02:41:48.913205",
     "status": "completed"
    },
    "tags": []
   },
   "outputs": [
    {
     "name": "stdout",
     "output_type": "stream",
     "text": [
      "<bound method NDFrame.describe of       LotArea  YearBuilt  1stFlrSF  2ndFlrSF  FullBath  BedroomAbvGr  \\\n",
      "0        8450       2003       856       854         2             3   \n",
      "1        9600       1976      1262         0         2             3   \n",
      "2       11250       2001       920       866         2             3   \n",
      "3        9550       1915       961       756         1             3   \n",
      "4       14260       2000      1145      1053         2             4   \n",
      "...       ...        ...       ...       ...       ...           ...   \n",
      "1455     7917       1999       953       694         2             3   \n",
      "1456    13175       1978      2073         0         2             3   \n",
      "1457     9042       1941      1188      1152         2             4   \n",
      "1458     9717       1950      1078         0         1             2   \n",
      "1459     9937       1965      1256         0         1             3   \n",
      "\n",
      "      TotRmsAbvGrd  \n",
      "0                8  \n",
      "1                6  \n",
      "2                6  \n",
      "3                7  \n",
      "4                9  \n",
      "...            ...  \n",
      "1455             7  \n",
      "1456             7  \n",
      "1457             9  \n",
      "1458             5  \n",
      "1459             6  \n",
      "\n",
      "[1460 rows x 7 columns]>\n",
      "   LotArea  YearBuilt  1stFlrSF  2ndFlrSF  FullBath  BedroomAbvGr  \\\n",
      "0     8450       2003       856       854         2             3   \n",
      "1     9600       1976      1262         0         2             3   \n",
      "2    11250       2001       920       866         2             3   \n",
      "3     9550       1915       961       756         1             3   \n",
      "4    14260       2000      1145      1053         2             4   \n",
      "\n",
      "   TotRmsAbvGrd  \n",
      "0             8  \n",
      "1             6  \n",
      "2             6  \n",
      "3             7  \n",
      "4             9  \n"
     ]
    }
   ],
   "source": [
    "# Review data\n",
    "# print description or statistics from X\n",
    "print(X.describe)\n",
    "\n",
    "# print the top few lines\n",
    "print(X.head())"
   ]
  },
  {
   "cell_type": "markdown",
   "id": "4f8dca23",
   "metadata": {
    "papermill": {
     "duration": 0.005669,
     "end_time": "2023-08-22T02:41:48.953535",
     "exception": false,
     "start_time": "2023-08-22T02:41:48.947866",
     "status": "completed"
    },
    "tags": []
   },
   "source": [
    "## Step 3: Specify and Fit Model\n",
    "Create a `DecisionTreeRegressor` and save it iowa_model. Ensure you've done the relevant import from sklearn to run this command.\n",
    "\n",
    "Then fit the model you just created using the data in `X` and `y` that you saved above."
   ]
  },
  {
   "cell_type": "code",
   "execution_count": 8,
   "id": "2a00b967",
   "metadata": {
    "execution": {
     "iopub.execute_input": "2023-08-22T02:41:48.968581Z",
     "iopub.status.busy": "2023-08-22T02:41:48.967966Z",
     "iopub.status.idle": "2023-08-22T02:41:48.991306Z",
     "shell.execute_reply": "2023-08-22T02:41:48.990194Z"
    },
    "papermill": {
     "duration": 0.034061,
     "end_time": "2023-08-22T02:41:48.993863",
     "exception": false,
     "start_time": "2023-08-22T02:41:48.959802",
     "status": "completed"
    },
    "tags": []
   },
   "outputs": [
    {
     "data": {
      "application/javascript": [
       "parent.postMessage({\"jupyterEvent\": \"custom.exercise_interaction\", \"data\": {\"outcomeType\": 1, \"valueTowardsCompletion\": 0.25, \"interactionType\": 1, \"questionType\": 2, \"questionId\": \"3_CreateModel\", \"learnToolsVersion\": \"0.3.4\", \"failureMessage\": \"\", \"exceptionClass\": \"\", \"trace\": \"\"}}, \"*\")"
      ],
      "text/plain": [
       "<IPython.core.display.Javascript object>"
      ]
     },
     "metadata": {},
     "output_type": "display_data"
    },
    {
     "data": {
      "text/markdown": [
       "<span style=\"color:#33cc33\">Correct</span>"
      ],
      "text/plain": [
       "Correct"
      ]
     },
     "metadata": {},
     "output_type": "display_data"
    }
   ],
   "source": [
    "from sklearn.tree import DecisionTreeRegressor\n",
    "#specify the model. \n",
    "#For model reproducibility, set a numeric value for random_state when specifying the model\n",
    "iowa_model = DecisionTreeRegressor(random_state=1)\n",
    "\n",
    "# Fit the model\n",
    "iowa_model.fit(X, y)\n",
    "\n",
    "# Check your answer\n",
    "step_3.check()"
   ]
  },
  {
   "cell_type": "code",
   "execution_count": 9,
   "id": "5d85fb04",
   "metadata": {
    "collapsed": true,
    "execution": {
     "iopub.execute_input": "2023-08-22T02:41:49.009301Z",
     "iopub.status.busy": "2023-08-22T02:41:49.008866Z",
     "iopub.status.idle": "2023-08-22T02:41:49.013469Z",
     "shell.execute_reply": "2023-08-22T02:41:49.012124Z"
    },
    "jupyter": {
     "outputs_hidden": true
    },
    "papermill": {
     "duration": 0.015705,
     "end_time": "2023-08-22T02:41:49.015996",
     "exception": false,
     "start_time": "2023-08-22T02:41:49.000291",
     "status": "completed"
    },
    "tags": []
   },
   "outputs": [],
   "source": [
    "# step_3.hint()\n",
    "# step_3.solution()"
   ]
  },
  {
   "cell_type": "markdown",
   "id": "49e7bdb7",
   "metadata": {
    "papermill": {
     "duration": 0.006935,
     "end_time": "2023-08-22T02:41:49.029813",
     "exception": false,
     "start_time": "2023-08-22T02:41:49.022878",
     "status": "completed"
    },
    "tags": []
   },
   "source": [
    "## Step 4: Make Predictions\n",
    "Make predictions with the model's `predict` command using `X` as the data. Save the results to a variable called `predictions`."
   ]
  },
  {
   "cell_type": "code",
   "execution_count": 10,
   "id": "81a6935b",
   "metadata": {
    "execution": {
     "iopub.execute_input": "2023-08-22T02:41:49.046775Z",
     "iopub.status.busy": "2023-08-22T02:41:49.046386Z",
     "iopub.status.idle": "2023-08-22T02:41:49.062999Z",
     "shell.execute_reply": "2023-08-22T02:41:49.061199Z"
    },
    "papermill": {
     "duration": 0.029835,
     "end_time": "2023-08-22T02:41:49.066521",
     "exception": false,
     "start_time": "2023-08-22T02:41:49.036686",
     "status": "completed"
    },
    "tags": []
   },
   "outputs": [
    {
     "name": "stdout",
     "output_type": "stream",
     "text": [
      "[208500. 181500. 223500. ... 266500. 142125. 147500.]\n"
     ]
    },
    {
     "data": {
      "application/javascript": [
       "parent.postMessage({\"jupyterEvent\": \"custom.exercise_interaction\", \"data\": {\"outcomeType\": 1, \"valueTowardsCompletion\": 0.25, \"interactionType\": 1, \"questionType\": 2, \"questionId\": \"4_MakePredictions\", \"learnToolsVersion\": \"0.3.4\", \"failureMessage\": \"\", \"exceptionClass\": \"\", \"trace\": \"\"}}, \"*\")"
      ],
      "text/plain": [
       "<IPython.core.display.Javascript object>"
      ]
     },
     "metadata": {},
     "output_type": "display_data"
    },
    {
     "data": {
      "text/markdown": [
       "<span style=\"color:#33cc33\">Correct</span>"
      ],
      "text/plain": [
       "Correct"
      ]
     },
     "metadata": {},
     "output_type": "display_data"
    }
   ],
   "source": [
    "predictions = iowa_model.predict(X)\n",
    "print(predictions)\n",
    "\n",
    "# Check your answer\n",
    "step_4.check()"
   ]
  },
  {
   "cell_type": "code",
   "execution_count": 11,
   "id": "a8277d4f",
   "metadata": {
    "collapsed": true,
    "execution": {
     "iopub.execute_input": "2023-08-22T02:41:49.082602Z",
     "iopub.status.busy": "2023-08-22T02:41:49.082216Z",
     "iopub.status.idle": "2023-08-22T02:41:49.086979Z",
     "shell.execute_reply": "2023-08-22T02:41:49.085758Z"
    },
    "jupyter": {
     "outputs_hidden": true
    },
    "papermill": {
     "duration": 0.016146,
     "end_time": "2023-08-22T02:41:49.089429",
     "exception": false,
     "start_time": "2023-08-22T02:41:49.073283",
     "status": "completed"
    },
    "tags": []
   },
   "outputs": [],
   "source": [
    "# step_4.hint()\n",
    "# step_4.solution()"
   ]
  },
  {
   "cell_type": "markdown",
   "id": "75bd0ef3",
   "metadata": {
    "papermill": {
     "duration": 0.006311,
     "end_time": "2023-08-22T02:41:49.102750",
     "exception": false,
     "start_time": "2023-08-22T02:41:49.096439",
     "status": "completed"
    },
    "tags": []
   },
   "source": [
    "## Think About Your Results\n",
    "\n",
    "Use the `head` method to compare the top few predictions to the actual home values (in `y`) for those same homes. Anything surprising?\n"
   ]
  },
  {
   "cell_type": "code",
   "execution_count": 12,
   "id": "d46953fc",
   "metadata": {
    "execution": {
     "iopub.execute_input": "2023-08-22T02:41:49.120203Z",
     "iopub.status.busy": "2023-08-22T02:41:49.118685Z",
     "iopub.status.idle": "2023-08-22T02:41:49.127165Z",
     "shell.execute_reply": "2023-08-22T02:41:49.125791Z"
    },
    "papermill": {
     "duration": 0.020421,
     "end_time": "2023-08-22T02:41:49.129798",
     "exception": false,
     "start_time": "2023-08-22T02:41:49.109377",
     "status": "completed"
    },
    "tags": []
   },
   "outputs": [
    {
     "name": "stdout",
     "output_type": "stream",
     "text": [
      "[208500. 181500. 223500. ... 266500. 142125. 147500.]\n",
      "0    208500\n",
      "1    181500\n",
      "2    223500\n",
      "3    140000\n",
      "4    250000\n",
      "Name: SalePrice, dtype: int64\n"
     ]
    }
   ],
   "source": [
    "# You can write code in this cell\n",
    "print(predictions)\n",
    "print(y.head())\n",
    "# Note the actual values and the predicted values are the same, because we used the the model to predict on the training data. The error rate would be low. "
   ]
  },
  {
   "cell_type": "markdown",
   "id": "b3c87911",
   "metadata": {
    "papermill": {
     "duration": 0.007602,
     "end_time": "2023-08-22T02:41:49.147114",
     "exception": false,
     "start_time": "2023-08-22T02:41:49.139512",
     "status": "completed"
    },
    "tags": []
   },
   "source": [
    "It's natural to ask how accurate the model's predictions will be and how you can improve that. That will be you're next step.\n",
    "\n",
    "# Keep Going\n",
    "\n",
    "You are ready for **[Model Validation](https://www.kaggle.com/dansbecker/model-validation).**\n"
   ]
  },
  {
   "cell_type": "markdown",
   "id": "6ec4b86f",
   "metadata": {
    "papermill": {
     "duration": 0.006414,
     "end_time": "2023-08-22T02:41:49.160219",
     "exception": false,
     "start_time": "2023-08-22T02:41:49.153805",
     "status": "completed"
    },
    "tags": []
   },
   "source": [
    "---\n",
    "\n",
    "\n",
    "\n",
    "\n",
    "*Have questions or comments? Visit the [course discussion forum](https://www.kaggle.com/learn/intro-to-machine-learning/discussion) to chat with other learners.*"
   ]
  }
 ],
 "metadata": {
  "kernelspec": {
   "display_name": "Python 3",
   "language": "python",
   "name": "python3"
  },
  "language_info": {
   "codemirror_mode": {
    "name": "ipython",
    "version": 3
   },
   "file_extension": ".py",
   "mimetype": "text/x-python",
   "name": "python",
   "nbconvert_exporter": "python",
   "pygments_lexer": "ipython3",
   "version": "3.10.12"
  },
  "papermill": {
   "default_parameters": {},
   "duration": 14.829867,
   "end_time": "2023-08-22T02:41:50.290697",
   "environment_variables": {},
   "exception": null,
   "input_path": "__notebook__.ipynb",
   "output_path": "__notebook__.ipynb",
   "parameters": {},
   "start_time": "2023-08-22T02:41:35.460830",
   "version": "2.4.0"
  }
 },
 "nbformat": 4,
 "nbformat_minor": 5
}
