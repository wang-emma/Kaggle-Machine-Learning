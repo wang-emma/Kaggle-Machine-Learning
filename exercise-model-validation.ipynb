{
 "cells": [
  {
   "cell_type": "markdown",
   "id": "f66be549",
   "metadata": {
    "papermill": {
     "duration": 0.004648,
     "end_time": "2023-08-22T08:43:11.959847",
     "exception": false,
     "start_time": "2023-08-22T08:43:11.955199",
     "status": "completed"
    },
    "tags": []
   },
   "source": [
    "**This notebook is an exercise in the [Introduction to Machine Learning](https://www.kaggle.com/learn/intro-to-machine-learning) course.  You can reference the tutorial at [this link](https://www.kaggle.com/dansbecker/model-validation).**\n",
    "\n",
    "---\n"
   ]
  },
  {
   "cell_type": "markdown",
   "id": "b3468533",
   "metadata": {
    "papermill": {
     "duration": 0.003946,
     "end_time": "2023-08-22T08:43:11.968286",
     "exception": false,
     "start_time": "2023-08-22T08:43:11.964340",
     "status": "completed"
    },
    "tags": []
   },
   "source": [
    "## Recap\n",
    "You've built a model. In this exercise you will test how good your model is.\n",
    "\n",
    "Run the cell below to set up your coding environment where the previous exercise left off."
   ]
  },
  {
   "cell_type": "code",
   "execution_count": 1,
   "id": "859b0db5",
   "metadata": {
    "execution": {
     "iopub.execute_input": "2023-08-22T08:43:11.980228Z",
     "iopub.status.busy": "2023-08-22T08:43:11.979481Z",
     "iopub.status.idle": "2023-08-22T08:43:13.692336Z",
     "shell.execute_reply": "2023-08-22T08:43:13.691030Z"
    },
    "papermill": {
     "duration": 1.721695,
     "end_time": "2023-08-22T08:43:13.694758",
     "exception": false,
     "start_time": "2023-08-22T08:43:11.973063",
     "status": "completed"
    },
    "tags": []
   },
   "outputs": [
    {
     "name": "stderr",
     "output_type": "stream",
     "text": [
      "/opt/conda/lib/python3.10/site-packages/scipy/__init__.py:146: UserWarning: A NumPy version >=1.16.5 and <1.23.0 is required for this version of SciPy (detected version 1.23.5\n",
      "  warnings.warn(f\"A NumPy version >={np_minversion} and <{np_maxversion}\"\n"
     ]
    },
    {
     "name": "stdout",
     "output_type": "stream",
     "text": [
      "First in-sample predictions: [208500. 181500. 223500. 140000. 250000.]\n",
      "Actual target values for those homes: [208500, 181500, 223500, 140000, 250000]\n",
      "Setup Complete\n"
     ]
    }
   ],
   "source": [
    "# Code you have previously used to load data\n",
    "import pandas as pd\n",
    "from sklearn.tree import DecisionTreeRegressor\n",
    "\n",
    "# Path of the file to read\n",
    "iowa_file_path = '../input/home-data-for-ml-course/train.csv'\n",
    "\n",
    "home_data = pd.read_csv(iowa_file_path)\n",
    "y = home_data.SalePrice\n",
    "feature_columns = ['LotArea', 'YearBuilt', '1stFlrSF', '2ndFlrSF', 'FullBath', 'BedroomAbvGr', 'TotRmsAbvGrd']\n",
    "X = home_data[feature_columns]\n",
    "\n",
    "# Specify Model\n",
    "iowa_model = DecisionTreeRegressor()\n",
    "# Fit Model\n",
    "iowa_model.fit(X, y)\n",
    "\n",
    "print(\"First in-sample predictions:\", iowa_model.predict(X.head()))\n",
    "print(\"Actual target values for those homes:\", y.head().tolist())\n",
    "\n",
    "# Set up code checking\n",
    "from learntools.core import binder\n",
    "binder.bind(globals())\n",
    "from learntools.machine_learning.ex4 import *\n",
    "print(\"Setup Complete\")"
   ]
  },
  {
   "cell_type": "markdown",
   "id": "f513ad88",
   "metadata": {
    "papermill": {
     "duration": 0.004143,
     "end_time": "2023-08-22T08:43:13.703366",
     "exception": false,
     "start_time": "2023-08-22T08:43:13.699223",
     "status": "completed"
    },
    "tags": []
   },
   "source": [
    "# Exercises\n",
    "\n",
    "## Step 1: Split Your Data\n",
    "Use the `train_test_split` function to split up your data.\n",
    "\n",
    "Give it the argument `random_state=1` so the `check` functions know what to expect when verifying your code.\n",
    "\n",
    "Recall, your features are loaded in the DataFrame **X** and your target is loaded in **y**.\n"
   ]
  },
  {
   "cell_type": "code",
   "execution_count": 2,
   "id": "94895c73",
   "metadata": {
    "execution": {
     "iopub.execute_input": "2023-08-22T08:43:13.714292Z",
     "iopub.status.busy": "2023-08-22T08:43:13.713729Z",
     "iopub.status.idle": "2023-08-22T08:43:13.727652Z",
     "shell.execute_reply": "2023-08-22T08:43:13.726342Z"
    },
    "papermill": {
     "duration": 0.022019,
     "end_time": "2023-08-22T08:43:13.729811",
     "exception": false,
     "start_time": "2023-08-22T08:43:13.707792",
     "status": "completed"
    },
    "tags": []
   },
   "outputs": [
    {
     "data": {
      "application/javascript": [
       "parent.postMessage({\"jupyterEvent\": \"custom.exercise_interaction\", \"data\": {\"outcomeType\": 1, \"valueTowardsCompletion\": 0.25, \"interactionType\": 1, \"questionType\": 2, \"questionId\": \"1_SplitData\", \"learnToolsVersion\": \"0.3.4\", \"failureMessage\": \"\", \"exceptionClass\": \"\", \"trace\": \"\"}}, \"*\")"
      ],
      "text/plain": [
       "<IPython.core.display.Javascript object>"
      ]
     },
     "metadata": {},
     "output_type": "display_data"
    },
    {
     "data": {
      "text/markdown": [
       "<span style=\"color:#33cc33\">Correct</span>"
      ],
      "text/plain": [
       "Correct"
      ]
     },
     "metadata": {},
     "output_type": "display_data"
    }
   ],
   "source": [
    "# Import the train_test_split function and uncomment\n",
    "from sklearn.model_selection import train_test_split\n",
    "\n",
    "# fill in and uncomment\n",
    "train_X, val_X, train_y, val_y = train_test_split(X, y, random_state = 1)\n",
    "\n",
    "# Check your answer\n",
    "step_1.check()"
   ]
  },
  {
   "cell_type": "code",
   "execution_count": 3,
   "id": "b90e9cab",
   "metadata": {
    "execution": {
     "iopub.execute_input": "2023-08-22T08:43:13.741436Z",
     "iopub.status.busy": "2023-08-22T08:43:13.740872Z",
     "iopub.status.idle": "2023-08-22T08:43:13.746337Z",
     "shell.execute_reply": "2023-08-22T08:43:13.745126Z"
    },
    "papermill": {
     "duration": 0.014138,
     "end_time": "2023-08-22T08:43:13.748689",
     "exception": false,
     "start_time": "2023-08-22T08:43:13.734551",
     "status": "completed"
    },
    "tags": []
   },
   "outputs": [],
   "source": [
    "# The lines below will show you a hint or the solution.\n",
    "# step_1.hint() \n",
    "# step_1.solution()\n"
   ]
  },
  {
   "cell_type": "markdown",
   "id": "42348010",
   "metadata": {
    "papermill": {
     "duration": 0.004475,
     "end_time": "2023-08-22T08:43:13.760222",
     "exception": false,
     "start_time": "2023-08-22T08:43:13.755747",
     "status": "completed"
    },
    "tags": []
   },
   "source": [
    "## Step 2: Specify and Fit the Model\n",
    "\n",
    "Create a `DecisionTreeRegressor` model and fit it to the relevant data.\n",
    "Set `random_state` to 1 again when creating the model."
   ]
  },
  {
   "cell_type": "code",
   "execution_count": 4,
   "id": "489c6f1f",
   "metadata": {
    "execution": {
     "iopub.execute_input": "2023-08-22T08:43:13.772362Z",
     "iopub.status.busy": "2023-08-22T08:43:13.771950Z",
     "iopub.status.idle": "2023-08-22T08:43:13.800088Z",
     "shell.execute_reply": "2023-08-22T08:43:13.798996Z"
    },
    "papermill": {
     "duration": 0.036605,
     "end_time": "2023-08-22T08:43:13.802339",
     "exception": false,
     "start_time": "2023-08-22T08:43:13.765734",
     "status": "completed"
    },
    "tags": []
   },
   "outputs": [
    {
     "name": "stdout",
     "output_type": "stream",
     "text": [
      "[186500. 184000. 130000.  92000. 164500. 220000. 335000. 144152. 215000.\n",
      " 262000.]\n",
      "[186500. 184000. 130000.  92000. 164500. 220000. 335000. 144152. 215000.\n",
      " 262000.]\n"
     ]
    },
    {
     "data": {
      "application/javascript": [
       "parent.postMessage({\"jupyterEvent\": \"custom.exercise_interaction\", \"data\": {\"outcomeType\": 1, \"valueTowardsCompletion\": 0.25, \"interactionType\": 1, \"questionType\": 2, \"questionId\": \"2_FitModelWithTrain\", \"learnToolsVersion\": \"0.3.4\", \"failureMessage\": \"\", \"exceptionClass\": \"\", \"trace\": \"\"}}, \"*\")"
      ],
      "text/plain": [
       "<IPython.core.display.Javascript object>"
      ]
     },
     "metadata": {},
     "output_type": "display_data"
    },
    {
     "data": {
      "text/markdown": [
       "<span style=\"color:#33cc33\">Correct</span>"
      ],
      "text/plain": [
       "Correct"
      ]
     },
     "metadata": {},
     "output_type": "display_data"
    }
   ],
   "source": [
    "# You imported DecisionTreeRegressor in your last exercise\n",
    "# and that code has been copied to the setup code above. So, no need to\n",
    "# import it again\n",
    "\n",
    "# Specify the model\n",
    "iowa_model = DecisionTreeRegressor(random_state = 1)\n",
    "\n",
    "# Fit iowa_model with the training data.\n",
    "iowa_model.fit(train_X, train_y)\n",
    "\n",
    "# Check your answer\n",
    "step_2.check()"
   ]
  },
  {
   "cell_type": "code",
   "execution_count": 5,
   "id": "87aca584",
   "metadata": {
    "execution": {
     "iopub.execute_input": "2023-08-22T08:43:13.814328Z",
     "iopub.status.busy": "2023-08-22T08:43:13.813953Z",
     "iopub.status.idle": "2023-08-22T08:43:13.818378Z",
     "shell.execute_reply": "2023-08-22T08:43:13.817008Z"
    },
    "papermill": {
     "duration": 0.01334,
     "end_time": "2023-08-22T08:43:13.820753",
     "exception": false,
     "start_time": "2023-08-22T08:43:13.807413",
     "status": "completed"
    },
    "tags": []
   },
   "outputs": [],
   "source": [
    "# step_2.hint()\n",
    "# step_2.solution()"
   ]
  },
  {
   "cell_type": "markdown",
   "id": "5ef09669",
   "metadata": {
    "papermill": {
     "duration": 0.004765,
     "end_time": "2023-08-22T08:43:13.830654",
     "exception": false,
     "start_time": "2023-08-22T08:43:13.825889",
     "status": "completed"
    },
    "tags": []
   },
   "source": [
    "## Step 3: Make Predictions with Validation data\n"
   ]
  },
  {
   "cell_type": "code",
   "execution_count": 6,
   "id": "eb07156d",
   "metadata": {
    "execution": {
     "iopub.execute_input": "2023-08-22T08:43:13.842728Z",
     "iopub.status.busy": "2023-08-22T08:43:13.842307Z",
     "iopub.status.idle": "2023-08-22T08:43:13.855133Z",
     "shell.execute_reply": "2023-08-22T08:43:13.854124Z"
    },
    "papermill": {
     "duration": 0.022625,
     "end_time": "2023-08-22T08:43:13.858453",
     "exception": false,
     "start_time": "2023-08-22T08:43:13.835828",
     "status": "completed"
    },
    "tags": []
   },
   "outputs": [
    {
     "data": {
      "application/javascript": [
       "parent.postMessage({\"jupyterEvent\": \"custom.exercise_interaction\", \"data\": {\"outcomeType\": 1, \"valueTowardsCompletion\": 0.25, \"interactionType\": 1, \"questionType\": 2, \"questionId\": \"3_ValPreds\", \"learnToolsVersion\": \"0.3.4\", \"failureMessage\": \"\", \"exceptionClass\": \"\", \"trace\": \"\"}}, \"*\")"
      ],
      "text/plain": [
       "<IPython.core.display.Javascript object>"
      ]
     },
     "metadata": {},
     "output_type": "display_data"
    },
    {
     "data": {
      "text/markdown": [
       "<span style=\"color:#33cc33\">Correct</span>"
      ],
      "text/plain": [
       "Correct"
      ]
     },
     "metadata": {},
     "output_type": "display_data"
    }
   ],
   "source": [
    "# Predict with all validation observations\n",
    "val_predictions = iowa_model.predict(val_X)\n",
    "\n",
    "# Check your answer\n",
    "step_3.check()"
   ]
  },
  {
   "cell_type": "code",
   "execution_count": 7,
   "id": "1577b554",
   "metadata": {
    "execution": {
     "iopub.execute_input": "2023-08-22T08:43:13.871839Z",
     "iopub.status.busy": "2023-08-22T08:43:13.871469Z",
     "iopub.status.idle": "2023-08-22T08:43:13.876846Z",
     "shell.execute_reply": "2023-08-22T08:43:13.875673Z"
    },
    "papermill": {
     "duration": 0.015123,
     "end_time": "2023-08-22T08:43:13.879865",
     "exception": false,
     "start_time": "2023-08-22T08:43:13.864742",
     "status": "completed"
    },
    "tags": []
   },
   "outputs": [],
   "source": [
    "# step_3.hint()\n",
    "# step_3.solution()"
   ]
  },
  {
   "cell_type": "markdown",
   "id": "f87feb4a",
   "metadata": {
    "papermill": {
     "duration": 0.005148,
     "end_time": "2023-08-22T08:43:13.891531",
     "exception": false,
     "start_time": "2023-08-22T08:43:13.886383",
     "status": "completed"
    },
    "tags": []
   },
   "source": [
    "Inspect your predictions and actual values from validation data."
   ]
  },
  {
   "cell_type": "code",
   "execution_count": 8,
   "id": "8e2ee9f5",
   "metadata": {
    "execution": {
     "iopub.execute_input": "2023-08-22T08:43:13.906143Z",
     "iopub.status.busy": "2023-08-22T08:43:13.905482Z",
     "iopub.status.idle": "2023-08-22T08:43:13.912351Z",
     "shell.execute_reply": "2023-08-22T08:43:13.911190Z"
    },
    "papermill": {
     "duration": 0.018,
     "end_time": "2023-08-22T08:43:13.915564",
     "exception": false,
     "start_time": "2023-08-22T08:43:13.897564",
     "status": "completed"
    },
    "tags": []
   },
   "outputs": [
    {
     "name": "stdout",
     "output_type": "stream",
     "text": [
      "[186500. 184000. 130000.  92000. 164500.]\n",
      "6       307000\n",
      "807     223500\n",
      "955     145000\n",
      "1040    155000\n",
      "701     140000\n",
      "Name: SalePrice, dtype: int64\n"
     ]
    }
   ],
   "source": [
    "# print the top few validation predictions\n",
    "print(val_predictions[0:5])\n",
    "# print the top few actual prices from validation data\n",
    "print(train_y.head())"
   ]
  },
  {
   "cell_type": "markdown",
   "id": "eb46604d",
   "metadata": {
    "papermill": {
     "duration": 0.005077,
     "end_time": "2023-08-22T08:43:13.926235",
     "exception": false,
     "start_time": "2023-08-22T08:43:13.921158",
     "status": "completed"
    },
    "tags": []
   },
   "source": [
    "What do you notice that is different from what you saw with in-sample predictions (which are printed after the top code cell in this page).\n",
    "\n",
    "Do you remember why validation predictions differ from in-sample (or training) predictions? This is an important idea from the last lesson.\n",
    "\n",
    "## Step 4: Calculate the Mean Absolute Error in Validation Data\n"
   ]
  },
  {
   "cell_type": "code",
   "execution_count": 9,
   "id": "120567d7",
   "metadata": {
    "execution": {
     "iopub.execute_input": "2023-08-22T08:43:13.939587Z",
     "iopub.status.busy": "2023-08-22T08:43:13.939217Z",
     "iopub.status.idle": "2023-08-22T08:43:13.949230Z",
     "shell.execute_reply": "2023-08-22T08:43:13.947989Z"
    },
    "papermill": {
     "duration": 0.019777,
     "end_time": "2023-08-22T08:43:13.951561",
     "exception": false,
     "start_time": "2023-08-22T08:43:13.931784",
     "status": "completed"
    },
    "tags": []
   },
   "outputs": [
    {
     "name": "stdout",
     "output_type": "stream",
     "text": [
      "29652.931506849316\n"
     ]
    },
    {
     "data": {
      "application/javascript": [
       "parent.postMessage({\"jupyterEvent\": \"custom.exercise_interaction\", \"data\": {\"outcomeType\": 1, \"valueTowardsCompletion\": 0.25, \"interactionType\": 1, \"questionType\": 1, \"questionId\": \"4_MAE\", \"learnToolsVersion\": \"0.3.4\", \"failureMessage\": \"\", \"exceptionClass\": \"\", \"trace\": \"\"}}, \"*\")"
      ],
      "text/plain": [
       "<IPython.core.display.Javascript object>"
      ]
     },
     "metadata": {},
     "output_type": "display_data"
    },
    {
     "data": {
      "text/markdown": [
       "<span style=\"color:#33cc33\">Correct</span>"
      ],
      "text/plain": [
       "Correct"
      ]
     },
     "metadata": {},
     "output_type": "display_data"
    }
   ],
   "source": [
    "from sklearn.metrics import mean_absolute_error\n",
    "val_mae = mean_absolute_error(val_y, val_predictions)\n",
    "\n",
    "# uncomment following line to see the validation_mae\n",
    "print(val_mae)\n",
    "\n",
    "# Check your answer\n",
    "step_4.check()"
   ]
  },
  {
   "cell_type": "code",
   "execution_count": 10,
   "id": "203d0850",
   "metadata": {
    "execution": {
     "iopub.execute_input": "2023-08-22T08:43:13.966893Z",
     "iopub.status.busy": "2023-08-22T08:43:13.966515Z",
     "iopub.status.idle": "2023-08-22T08:43:13.971364Z",
     "shell.execute_reply": "2023-08-22T08:43:13.969998Z"
    },
    "papermill": {
     "duration": 0.015294,
     "end_time": "2023-08-22T08:43:13.973772",
     "exception": false,
     "start_time": "2023-08-22T08:43:13.958478",
     "status": "completed"
    },
    "tags": []
   },
   "outputs": [],
   "source": [
    "# step_4.hint()\n",
    "# step_4.solution()"
   ]
  },
  {
   "cell_type": "markdown",
   "id": "1e6b6c2a",
   "metadata": {
    "papermill": {
     "duration": 0.005432,
     "end_time": "2023-08-22T08:43:13.985999",
     "exception": false,
     "start_time": "2023-08-22T08:43:13.980567",
     "status": "completed"
    },
    "tags": []
   },
   "source": [
    "Is that MAE good?  There isn't a general rule for what values are good that applies across applications. But you'll see how to use (and improve) this number in the next step.\n",
    "\n",
    "# Keep Going\n",
    "\n",
    "You are ready for **[Underfitting and Overfitting](https://www.kaggle.com/dansbecker/underfitting-and-overfitting).**\n"
   ]
  },
  {
   "cell_type": "markdown",
   "id": "48fb0f0d",
   "metadata": {
    "papermill": {
     "duration": 0.006058,
     "end_time": "2023-08-22T08:43:13.998355",
     "exception": false,
     "start_time": "2023-08-22T08:43:13.992297",
     "status": "completed"
    },
    "tags": []
   },
   "source": [
    "---\n",
    "\n",
    "\n",
    "\n",
    "\n",
    "*Have questions or comments? Visit the [course discussion forum](https://www.kaggle.com/learn/intro-to-machine-learning/discussion) to chat with other learners.*"
   ]
  }
 ],
 "metadata": {
  "kernelspec": {
   "display_name": "Python 3",
   "language": "python",
   "name": "python3"
  },
  "language_info": {
   "codemirror_mode": {
    "name": "ipython",
    "version": 3
   },
   "file_extension": ".py",
   "mimetype": "text/x-python",
   "name": "python",
   "nbconvert_exporter": "python",
   "pygments_lexer": "ipython3",
   "version": "3.10.12"
  },
  "papermill": {
   "default_parameters": {},
   "duration": 13.181766,
   "end_time": "2023-08-22T08:43:14.927695",
   "environment_variables": {},
   "exception": null,
   "input_path": "__notebook__.ipynb",
   "output_path": "__notebook__.ipynb",
   "parameters": {},
   "start_time": "2023-08-22T08:43:01.745929",
   "version": "2.4.0"
  }
 },
 "nbformat": 4,
 "nbformat_minor": 5
}
