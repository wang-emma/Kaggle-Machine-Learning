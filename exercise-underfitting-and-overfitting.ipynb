{
 "cells": [
  {
   "cell_type": "markdown",
   "id": "2cd2f720",
   "metadata": {
    "papermill": {
     "duration": 0.005183,
     "end_time": "2023-08-22T08:51:02.867287",
     "exception": false,
     "start_time": "2023-08-22T08:51:02.862104",
     "status": "completed"
    },
    "tags": []
   },
   "source": [
    "**This notebook is an exercise in the [Introduction to Machine Learning](https://www.kaggle.com/learn/intro-to-machine-learning) course.  You can reference the tutorial at [this link](https://www.kaggle.com/dansbecker/underfitting-and-overfitting).**\n",
    "\n",
    "---\n"
   ]
  },
  {
   "cell_type": "markdown",
   "id": "0fab388c",
   "metadata": {
    "papermill": {
     "duration": 0.0042,
     "end_time": "2023-08-22T08:51:02.876167",
     "exception": false,
     "start_time": "2023-08-22T08:51:02.871967",
     "status": "completed"
    },
    "tags": []
   },
   "source": [
    "## Recap\n",
    "You've built your first model, and now it's time to optimize the size of the tree to make better predictions. Run this cell to set up your coding environment where the previous step left off."
   ]
  },
  {
   "cell_type": "code",
   "execution_count": 1,
   "id": "35d0ddd7",
   "metadata": {
    "execution": {
     "iopub.execute_input": "2023-08-22T08:51:02.887181Z",
     "iopub.status.busy": "2023-08-22T08:51:02.886777Z",
     "iopub.status.idle": "2023-08-22T08:51:04.725403Z",
     "shell.execute_reply": "2023-08-22T08:51:04.723724Z"
    },
    "papermill": {
     "duration": 1.847526,
     "end_time": "2023-08-22T08:51:04.728212",
     "exception": false,
     "start_time": "2023-08-22T08:51:02.880686",
     "status": "completed"
    },
    "tags": []
   },
   "outputs": [
    {
     "name": "stderr",
     "output_type": "stream",
     "text": [
      "/opt/conda/lib/python3.10/site-packages/scipy/__init__.py:146: UserWarning: A NumPy version >=1.16.5 and <1.23.0 is required for this version of SciPy (detected version 1.23.5\n",
      "  warnings.warn(f\"A NumPy version >={np_minversion} and <{np_maxversion}\"\n"
     ]
    },
    {
     "name": "stdout",
     "output_type": "stream",
     "text": [
      "Validation MAE: 29,653\n",
      "\n",
      "Setup complete\n"
     ]
    }
   ],
   "source": [
    "# Code you have previously used to load data\n",
    "import pandas as pd\n",
    "from sklearn.metrics import mean_absolute_error\n",
    "from sklearn.model_selection import train_test_split\n",
    "from sklearn.tree import DecisionTreeRegressor\n",
    "\n",
    "\n",
    "# Path of the file to read\n",
    "iowa_file_path = '../input/home-data-for-ml-course/train.csv'\n",
    "\n",
    "home_data = pd.read_csv(iowa_file_path)\n",
    "# Create target object and call it y\n",
    "y = home_data.SalePrice\n",
    "# Create X\n",
    "features = ['LotArea', 'YearBuilt', '1stFlrSF', '2ndFlrSF', 'FullBath', 'BedroomAbvGr', 'TotRmsAbvGrd']\n",
    "X = home_data[features]\n",
    "\n",
    "# Split into validation and training data\n",
    "train_X, val_X, train_y, val_y = train_test_split(X, y, random_state=1)\n",
    "\n",
    "# Specify Model\n",
    "iowa_model = DecisionTreeRegressor(random_state=1)\n",
    "# Fit Model\n",
    "iowa_model.fit(train_X, train_y)\n",
    "\n",
    "# Make validation predictions and calculate mean absolute error\n",
    "val_predictions = iowa_model.predict(val_X)\n",
    "val_mae = mean_absolute_error(val_predictions, val_y)\n",
    "print(\"Validation MAE: {:,.0f}\".format(val_mae))\n",
    "\n",
    "# Set up code checking\n",
    "from learntools.core import binder\n",
    "binder.bind(globals())\n",
    "from learntools.machine_learning.ex5 import *\n",
    "print(\"\\nSetup complete\")"
   ]
  },
  {
   "cell_type": "markdown",
   "id": "1dcf4b56",
   "metadata": {
    "papermill": {
     "duration": 0.004288,
     "end_time": "2023-08-22T08:51:04.737171",
     "exception": false,
     "start_time": "2023-08-22T08:51:04.732883",
     "status": "completed"
    },
    "tags": []
   },
   "source": [
    "# Exercises\n",
    "You could write the function `get_mae` yourself. For now, we'll supply it. This is the same function you read about in the previous lesson. Just run the cell below."
   ]
  },
  {
   "cell_type": "code",
   "execution_count": 2,
   "id": "37e4b150",
   "metadata": {
    "execution": {
     "iopub.execute_input": "2023-08-22T08:51:04.748070Z",
     "iopub.status.busy": "2023-08-22T08:51:04.747619Z",
     "iopub.status.idle": "2023-08-22T08:51:04.753983Z",
     "shell.execute_reply": "2023-08-22T08:51:04.752863Z"
    },
    "papermill": {
     "duration": 0.0147,
     "end_time": "2023-08-22T08:51:04.756454",
     "exception": false,
     "start_time": "2023-08-22T08:51:04.741754",
     "status": "completed"
    },
    "tags": []
   },
   "outputs": [],
   "source": [
    "def get_mae(max_leaf_nodes, train_X, val_X, train_y, val_y):\n",
    "    model = DecisionTreeRegressor(max_leaf_nodes=max_leaf_nodes, random_state=0)\n",
    "    model.fit(train_X, train_y)\n",
    "    preds_val = model.predict(val_X)\n",
    "    mae = mean_absolute_error(val_y, preds_val)\n",
    "    return(mae)"
   ]
  },
  {
   "cell_type": "markdown",
   "id": "193bbdad",
   "metadata": {
    "papermill": {
     "duration": 0.004512,
     "end_time": "2023-08-22T08:51:04.765693",
     "exception": false,
     "start_time": "2023-08-22T08:51:04.761181",
     "status": "completed"
    },
    "tags": []
   },
   "source": [
    "## Step 1: Compare Different Tree Sizes\n",
    "Write a loop that tries the following values for *max_leaf_nodes* from a set of possible values.\n",
    "\n",
    "Call the *get_mae* function on each value of max_leaf_nodes. Store the output in some way that allows you to select the value of `max_leaf_nodes` that gives the most accurate model on your data."
   ]
  },
  {
   "cell_type": "code",
   "execution_count": 3,
   "id": "c0c01f16",
   "metadata": {
    "execution": {
     "iopub.execute_input": "2023-08-22T08:51:04.776675Z",
     "iopub.status.busy": "2023-08-22T08:51:04.776259Z",
     "iopub.status.idle": "2023-08-22T08:51:04.835938Z",
     "shell.execute_reply": "2023-08-22T08:51:04.835047Z"
    },
    "papermill": {
     "duration": 0.067786,
     "end_time": "2023-08-22T08:51:04.838082",
     "exception": false,
     "start_time": "2023-08-22T08:51:04.770296",
     "status": "completed"
    },
    "tags": []
   },
   "outputs": [
    {
     "name": "stdout",
     "output_type": "stream",
     "text": [
      "100\n"
     ]
    },
    {
     "data": {
      "application/javascript": [
       "parent.postMessage({\"jupyterEvent\": \"custom.exercise_interaction\", \"data\": {\"outcomeType\": 1, \"valueTowardsCompletion\": 0.5, \"interactionType\": 1, \"questionType\": 1, \"questionId\": \"1_BestTreeSize\", \"learnToolsVersion\": \"0.3.4\", \"failureMessage\": \"\", \"exceptionClass\": \"\", \"trace\": \"\"}}, \"*\")"
      ],
      "text/plain": [
       "<IPython.core.display.Javascript object>"
      ]
     },
     "metadata": {},
     "output_type": "display_data"
    },
    {
     "data": {
      "text/markdown": [
       "<span style=\"color:#33cc33\">Correct</span>"
      ],
      "text/plain": [
       "Correct"
      ]
     },
     "metadata": {},
     "output_type": "display_data"
    }
   ],
   "source": [
    "candidate_max_leaf_nodes = [5, 25, 50, 100, 250, 500]\n",
    "# Write loop to find the ideal tree size from candidate_max_leaf_nodes\n",
    "mean_error = [get_mae(max_leaf_nodes = node, train_X = train_X, val_X = val_X, train_y = train_y, val_y = val_y) for node in candidate_max_leaf_nodes]\n",
    "\n",
    "# Store the best value of max_leaf_nodes (it will be either 5, 25, 50, 100, 250 or 500)\n",
    "best_tree_size = candidate_max_leaf_nodes[mean_error.index(min(mean_error))]\n",
    "print(best_tree_size)\n",
    "\n",
    "# Check your answer\n",
    "step_1.check()"
   ]
  },
  {
   "cell_type": "code",
   "execution_count": 4,
   "id": "a72f9d70",
   "metadata": {
    "execution": {
     "iopub.execute_input": "2023-08-22T08:51:04.850462Z",
     "iopub.status.busy": "2023-08-22T08:51:04.849839Z",
     "iopub.status.idle": "2023-08-22T08:51:04.853697Z",
     "shell.execute_reply": "2023-08-22T08:51:04.852770Z"
    },
    "papermill": {
     "duration": 0.012861,
     "end_time": "2023-08-22T08:51:04.856068",
     "exception": false,
     "start_time": "2023-08-22T08:51:04.843207",
     "status": "completed"
    },
    "tags": []
   },
   "outputs": [],
   "source": [
    "# The lines below will show you a hint or the solution.\n",
    "# step_1.hint() \n",
    "# step_1.solution()"
   ]
  },
  {
   "cell_type": "markdown",
   "id": "03099aff",
   "metadata": {
    "papermill": {
     "duration": 0.004848,
     "end_time": "2023-08-22T08:51:04.867917",
     "exception": false,
     "start_time": "2023-08-22T08:51:04.863069",
     "status": "completed"
    },
    "tags": []
   },
   "source": [
    "## Step 2: Fit Model Using All Data\n",
    "You know the best tree size. If you were going to deploy this model in practice, you would make it even more accurate by using all of the data and keeping that tree size.  That is, you don't need to hold out the validation data now that you've made all your modeling decisions."
   ]
  },
  {
   "cell_type": "code",
   "execution_count": 5,
   "id": "6758f424",
   "metadata": {
    "execution": {
     "iopub.execute_input": "2023-08-22T08:51:04.879948Z",
     "iopub.status.busy": "2023-08-22T08:51:04.879502Z",
     "iopub.status.idle": "2023-08-22T08:51:04.898041Z",
     "shell.execute_reply": "2023-08-22T08:51:04.896867Z"
    },
    "papermill": {
     "duration": 0.027695,
     "end_time": "2023-08-22T08:51:04.900693",
     "exception": false,
     "start_time": "2023-08-22T08:51:04.872998",
     "status": "completed"
    },
    "tags": []
   },
   "outputs": [
    {
     "data": {
      "application/javascript": [
       "parent.postMessage({\"jupyterEvent\": \"custom.exercise_interaction\", \"data\": {\"outcomeType\": 1, \"valueTowardsCompletion\": 0.5, \"interactionType\": 1, \"questionType\": 2, \"questionId\": \"2_FitModelWithAllData\", \"learnToolsVersion\": \"0.3.4\", \"failureMessage\": \"\", \"exceptionClass\": \"\", \"trace\": \"\"}}, \"*\")"
      ],
      "text/plain": [
       "<IPython.core.display.Javascript object>"
      ]
     },
     "metadata": {},
     "output_type": "display_data"
    },
    {
     "data": {
      "text/markdown": [
       "<span style=\"color:#33cc33\">Correct</span>"
      ],
      "text/plain": [
       "Correct"
      ]
     },
     "metadata": {},
     "output_type": "display_data"
    }
   ],
   "source": [
    "# Fill in argument to make optimal size and uncomment\n",
    "final_model = DecisionTreeRegressor(max_leaf_nodes = best_tree_size)\n",
    "\n",
    "# fit the final model and uncomment the next two lines\n",
    "final_model.fit(X, y)\n",
    "\n",
    "# Check your answer\n",
    "step_2.check()"
   ]
  },
  {
   "cell_type": "code",
   "execution_count": 6,
   "id": "b785731a",
   "metadata": {
    "execution": {
     "iopub.execute_input": "2023-08-22T08:51:04.914112Z",
     "iopub.status.busy": "2023-08-22T08:51:04.913165Z",
     "iopub.status.idle": "2023-08-22T08:51:04.918312Z",
     "shell.execute_reply": "2023-08-22T08:51:04.917403Z"
    },
    "papermill": {
     "duration": 0.014687,
     "end_time": "2023-08-22T08:51:04.920802",
     "exception": false,
     "start_time": "2023-08-22T08:51:04.906115",
     "status": "completed"
    },
    "tags": []
   },
   "outputs": [],
   "source": [
    "# step_2.hint()\n",
    "# step_2.solution()"
   ]
  },
  {
   "cell_type": "markdown",
   "id": "c0a80595",
   "metadata": {
    "papermill": {
     "duration": 0.0054,
     "end_time": "2023-08-22T08:51:04.932038",
     "exception": false,
     "start_time": "2023-08-22T08:51:04.926638",
     "status": "completed"
    },
    "tags": []
   },
   "source": [
    "You've tuned this model and improved your results. But we are still using Decision Tree models, which are not very sophisticated by modern machine learning standards. In the next step you will learn to use Random Forests to improve your models even more.\n",
    "\n",
    "# Keep Going\n",
    "\n",
    "You are ready for **[Random Forests](https://www.kaggle.com/dansbecker/random-forests).**\n"
   ]
  },
  {
   "cell_type": "markdown",
   "id": "51c9d87b",
   "metadata": {
    "papermill": {
     "duration": 0.00534,
     "end_time": "2023-08-22T08:51:04.943030",
     "exception": false,
     "start_time": "2023-08-22T08:51:04.937690",
     "status": "completed"
    },
    "tags": []
   },
   "source": [
    "---\n",
    "\n",
    "\n",
    "\n",
    "\n",
    "*Have questions or comments? Visit the [course discussion forum](https://www.kaggle.com/learn/intro-to-machine-learning/discussion) to chat with other learners.*"
   ]
  }
 ],
 "metadata": {
  "kernelspec": {
   "display_name": "Python 3",
   "language": "python",
   "name": "python3"
  },
  "language_info": {
   "codemirror_mode": {
    "name": "ipython",
    "version": 3
   },
   "file_extension": ".py",
   "mimetype": "text/x-python",
   "name": "python",
   "nbconvert_exporter": "python",
   "pygments_lexer": "ipython3",
   "version": "3.10.12"
  },
  "papermill": {
   "default_parameters": {},
   "duration": 15.422893,
   "end_time": "2023-08-22T08:51:05.971616",
   "environment_variables": {},
   "exception": null,
   "input_path": "__notebook__.ipynb",
   "output_path": "__notebook__.ipynb",
   "parameters": {},
   "start_time": "2023-08-22T08:50:50.548723",
   "version": "2.4.0"
  }
 },
 "nbformat": 4,
 "nbformat_minor": 5
}
